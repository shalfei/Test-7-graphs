{
 "cells": [
  {
   "cell_type": "markdown",
   "id": "49379b91",
   "metadata": {},
   "source": [
    "**Тестовая задача 7. Работа с графовыми БД**"
   ]
  },
  {
   "cell_type": "markdown",
   "id": "d4930e8c",
   "metadata": {},
   "source": [
    "1. Импортируем библиотеки:"
   ]
  },
  {
   "cell_type": "code",
   "execution_count": 1,
   "id": "3ff4f024",
   "metadata": {},
   "outputs": [],
   "source": [
    "#для получения файла с Яндекс Диска\n",
    "import requests\n",
    "import pprint\n",
    "import urllib.parse\n",
    "\n",
    "#для удобства просмотра результатов\n",
    "import pandas as pd\n",
    "\n",
    "#драйвер для соединения с базой\n",
    "from neo4j import GraphDatabase\n",
    "\n",
    "#для визуализации\n",
    "from yfiles_jupyter_graphs import GraphWidget\n",
    "#для генерации hex значений цветов \n",
    "from random import choice\n",
    "\n",
    "#для API\n",
    "from flask import Flask, request, make_response\n",
    "import json"
   ]
  },
  {
   "cell_type": "markdown",
   "id": "747c7f6d",
   "metadata": {},
   "source": [
    "2. Получаем файл с Яндекс диска в виде объекта:"
   ]
  },
  {
   "cell_type": "markdown",
   "id": "80b98ef4",
   "metadata": {},
   "source": [
    "Примечание: данная ссылка не соответствует той, что была дана для скачивания файла, т.к. Яндекс ограничил кол-во скачиваний.\n",
    "Мне пришлось пересохранить файл и загрузить на свой Я.Диск."
   ]
  },
  {
   "cell_type": "code",
   "execution_count": 2,
   "id": "c2443597",
   "metadata": {},
   "outputs": [
    {
     "name": "stdout",
     "output_type": "stream",
     "text": [
      "Итак, мы вытащили ссылку на файл:\n",
      "https://downloader.disk.yandex.ru/disk/4d3f3e40b4aee1292f071a8d807bf146f6b41bdf765138741ea3570fe8ba9738/6407dbde/cnCdw-2I-y-0tP07jc6mB_YD9m1xJVbkCZQV_bZ1haEqZORVS6i-Ga2QtlP1QgSP-9meee3b6JTSrShpDVjT6A%3D%3D?uid=0&filename=data_test_copy.csv&disposition=attachment&hash=&limit=0&content_type=text%2Fplain&owner_uid=0&fsize=548614&hid=47c23cb742bbee6175b00517d3312bf2&media_type=spreadsheet&tknv=v2&etag=4a1feab956f2e434224abbfce06d4cca\n"
     ]
    }
   ],
   "source": [
    "target_url = \"https://disk.yandex.ru/d/XQ0WpAsDeS7yKw\"\n",
    "\n",
    "\n",
    "url = \"https://cloud-api.yandex.net/v1/disk/public/resources?public_key=\" + urllib.parse.quote(target_url, safe=\"\")\n",
    "\n",
    "response_data = requests.get(url)\n",
    "response_json = response_data.json()\n",
    "link_to_file = response_json['file']\n",
    "\n",
    "if response_data.headers[\"content-type\"] in [\"application/json; charset=utf-8\", \"application/json\"]:\n",
    "    print('Итак, мы вытащили ссылку на файл:')\n",
    "    print(link_to_file)\n",
    "#   print(pprint.pformat(responseJson)) эту строку нужно раскомментировать чтобы просмотреть Json объект целиком\n",
    "else:\n",
    "    print(response_data)\n"
   ]
  },
  {
   "cell_type": "markdown",
   "id": "a55be279",
   "metadata": {},
   "source": [
    "3. Перед тем как грузить файл в базу, бегло просмотрим его. Прочитаем данные из файла в DataFrame и проверим, что же мы вытащили:"
   ]
  },
  {
   "cell_type": "code",
   "execution_count": 3,
   "id": "6c3b49bf",
   "metadata": {},
   "outputs": [
    {
     "data": {
      "text/html": [
       "<div>\n",
       "<style scoped>\n",
       "    .dataframe tbody tr th:only-of-type {\n",
       "        vertical-align: middle;\n",
       "    }\n",
       "\n",
       "    .dataframe tbody tr th {\n",
       "        vertical-align: top;\n",
       "    }\n",
       "\n",
       "    .dataframe thead th {\n",
       "        text-align: right;\n",
       "    }\n",
       "</style>\n",
       "<table border=\"1\" class=\"dataframe\">\n",
       "  <thead>\n",
       "    <tr style=\"text-align: right;\">\n",
       "      <th></th>\n",
       "      <th>id события</th>\n",
       "      <th>ФИО участника события 1</th>\n",
       "      <th>ФИО участника события 2</th>\n",
       "    </tr>\n",
       "  </thead>\n",
       "  <tbody>\n",
       "    <tr>\n",
       "      <th>0</th>\n",
       "      <td>189</td>\n",
       "      <td>Галчевская Карина Владимировна</td>\n",
       "      <td>Белоновская Анастасия Семеновна</td>\n",
       "    </tr>\n",
       "    <tr>\n",
       "      <th>1</th>\n",
       "      <td>206</td>\n",
       "      <td>Офицеров Олег Романович</td>\n",
       "      <td>Сапожник Борис Валерьевич</td>\n",
       "    </tr>\n",
       "    <tr>\n",
       "      <th>2</th>\n",
       "      <td>445</td>\n",
       "      <td>Жандарова Лариса Германовна</td>\n",
       "      <td>Чемодуров Дамир Русланович</td>\n",
       "    </tr>\n",
       "    <tr>\n",
       "      <th>3</th>\n",
       "      <td>503</td>\n",
       "      <td>Масимова Яна Дамировна</td>\n",
       "      <td>Мингажетдинов Рамиль Семенович</td>\n",
       "    </tr>\n",
       "    <tr>\n",
       "      <th>4</th>\n",
       "      <td>571</td>\n",
       "      <td>Мухтарова Алена Яковлевна</td>\n",
       "      <td>Щербатенко Ольга Робертовна</td>\n",
       "    </tr>\n",
       "  </tbody>\n",
       "</table>\n",
       "</div>"
      ],
      "text/plain": [
       "   id события         ФИО участника события 1          ФИО участника события 2\n",
       "0         189  Галчевская Карина Владимировна  Белоновская Анастасия Семеновна\n",
       "1         206         Офицеров Олег Романович        Сапожник Борис Валерьевич\n",
       "2         445     Жандарова Лариса Германовна       Чемодуров Дамир Русланович\n",
       "3         503          Масимова Яна Дамировна   Мингажетдинов Рамиль Семенович\n",
       "4         571       Мухтарова Алена Яковлевна      Щербатенко Ольга Робертовна"
      ]
     },
     "execution_count": 3,
     "metadata": {},
     "output_type": "execute_result"
    }
   ],
   "source": [
    "df = pd.read_csv(link_to_file, sep=';')\n",
    "\n",
    "df.head()"
   ]
  },
  {
   "cell_type": "markdown",
   "id": "5fd33168",
   "metadata": {},
   "source": [
    "4. Подключимся к БД. Для этого создадим экземпляр драйвера."
   ]
  },
  {
   "cell_type": "code",
   "execution_count": 6,
   "id": "adf4b3f2",
   "metadata": {},
   "outputs": [],
   "source": [
    "driver = GraphDatabase.driver(\"bolt://localhost:7687\", auth=(\"neo4j1\", \"neo4j1neo4j1\")) \n",
    "#в качестве аргументов драйвер принимает адрес сервера БД, имя пользователя и пароль"
   ]
  },
  {
   "cell_type": "markdown",
   "id": "e0db39ab",
   "metadata": {},
   "source": [
    "5. Протестируем, распознаёт ли БД наш файл"
   ]
  },
  {
   "cell_type": "code",
   "execution_count": 8,
   "id": "ac1bf12d",
   "metadata": {
    "scrolled": true
   },
   "outputs": [
    {
     "data": {
      "text/html": [
       "<div>\n",
       "<style scoped>\n",
       "    .dataframe tbody tr th:only-of-type {\n",
       "        vertical-align: middle;\n",
       "    }\n",
       "\n",
       "    .dataframe tbody tr th {\n",
       "        vertical-align: top;\n",
       "    }\n",
       "\n",
       "    .dataframe thead th {\n",
       "        text-align: right;\n",
       "    }\n",
       "</style>\n",
       "<table border=\"1\" class=\"dataframe\">\n",
       "  <thead>\n",
       "    <tr style=\"text-align: right;\">\n",
       "      <th></th>\n",
       "      <th>0</th>\n",
       "      <th>1</th>\n",
       "      <th>2</th>\n",
       "    </tr>\n",
       "  </thead>\n",
       "  <tbody>\n",
       "    <tr>\n",
       "      <th>0</th>\n",
       "      <td>189</td>\n",
       "      <td>Галчевская Карина Владимировна</td>\n",
       "      <td>Белоновская Анастасия Семеновна</td>\n",
       "    </tr>\n",
       "    <tr>\n",
       "      <th>1</th>\n",
       "      <td>206</td>\n",
       "      <td>Офицеров Олег Романович</td>\n",
       "      <td>Сапожник Борис Валерьевич</td>\n",
       "    </tr>\n",
       "    <tr>\n",
       "      <th>2</th>\n",
       "      <td>445</td>\n",
       "      <td>Жандарова Лариса Германовна</td>\n",
       "      <td>Чемодуров Дамир Русланович</td>\n",
       "    </tr>\n",
       "    <tr>\n",
       "      <th>3</th>\n",
       "      <td>503</td>\n",
       "      <td>Масимова Яна Дамировна</td>\n",
       "      <td>Мингажетдинов Рамиль Семенович</td>\n",
       "    </tr>\n",
       "    <tr>\n",
       "      <th>4</th>\n",
       "      <td>571</td>\n",
       "      <td>Мухтарова Алена Яковлевна</td>\n",
       "      <td>Щербатенко Ольга Робертовна</td>\n",
       "    </tr>\n",
       "  </tbody>\n",
       "</table>\n",
       "</div>"
      ],
      "text/plain": [
       "     0                               1                                2\n",
       "0  189  Галчевская Карина Владимировна  Белоновская Анастасия Семеновна\n",
       "1  206         Офицеров Олег Романович        Сапожник Борис Валерьевич\n",
       "2  445     Жандарова Лариса Германовна       Чемодуров Дамир Русланович\n",
       "3  503          Масимова Яна Дамировна   Мингажетдинов Рамиль Семенович\n",
       "4  571       Мухтарова Алена Яковлевна      Щербатенко Ольга Робертовна"
      ]
     },
     "execution_count": 8,
     "metadata": {},
     "output_type": "execute_result"
    }
   ],
   "source": [
    "def test_csv(tx, csv_link):\n",
    "        result = tx.run(\"\"\"LOAD CSV WITH HEADERS FROM $csv_link AS row FIELDTERMINATOR ';'\n",
    "                        RETURN\n",
    "                        toInteger(row['id события']),\n",
    "                        row['ФИО участника события 1'],\n",
    "                        row['ФИО участника события 2']\n",
    "                        LIMIT 5\"\"\" , csv_link = csv_link\n",
    "                        )\n",
    "        records = list(result)  \n",
    "        return records\n",
    "\n",
    "\n",
    "with driver.session() as session:\n",
    "            records = session.execute_read(test_csv, link_to_file)\n",
    "\n",
    "(pd.DataFrame(records)).head(5)"
   ]
  },
  {
   "cell_type": "markdown",
   "id": "53a6b6ef",
   "metadata": {},
   "source": [
    "6. Перед тем как загружать данные в БД, создадим ограничения, где пропишем какие свойства узлов должны быть уникальными. Для события это будет id, для участников - ФИО."
   ]
  },
  {
   "cell_type": "code",
   "execution_count": 9,
   "id": "1e9352c5",
   "metadata": {
    "scrolled": true
   },
   "outputs": [],
   "source": [
    "def events_constraint(tx):\n",
    "    result = tx.run(\"\"\"CREATE CONSTRAINT Event_id IF NOT EXISTS\n",
    "                        FOR (x:Event)\n",
    "                        REQUIRE x.eventId IS UNIQUE\n",
    "                       \"\"\" \n",
    "                        )\n",
    "def person_constraint(tx):\n",
    "    result = tx.run(\"\"\"CREATE CONSTRAINT Person_name IF NOT EXISTS\n",
    "                        FOR (x:Person)\n",
    "                        REQUIRE x.name IS UNIQUE\n",
    "                       \"\"\" \n",
    "                        )\n",
    "    \n",
    "with driver.session(database=\"mytest\") as session:\n",
    "    session.execute_write(events_constraint)"
   ]
  },
  {
   "cell_type": "markdown",
   "id": "18737974",
   "metadata": {},
   "source": [
    "7. Загрузим события"
   ]
  },
  {
   "cell_type": "code",
   "execution_count": null,
   "id": "63c9227f",
   "metadata": {},
   "outputs": [],
   "source": [
    "def load_events(tx, csv_link):\n",
    "     result = tx.run(\"\"\"CALL {\n",
    "                        LOAD CSV WITH HEADERS FROM $csv_link AS row FIELDTERMINATOR ';'\n",
    "                        MERGE (e:Event {eventId: toInteger(row['id события'])})\n",
    "                        }\n",
    "                       \"\"\" , csv_link = csv_link\n",
    "                        )\n",
    "    \n",
    "with driver.session(database=\"mytest\") as session:\n",
    "            session.execute_write(load_events, link_to_file)"
   ]
  },
  {
   "cell_type": "markdown",
   "id": "7a49db10",
   "metadata": {},
   "source": [
    "8. Загрузим участников"
   ]
  },
  {
   "cell_type": "code",
   "execution_count": null,
   "id": "c36ac59a",
   "metadata": {},
   "outputs": [],
   "source": [
    "def load_people(tx, csv_link):\n",
    "     result = tx.run(\"\"\"CALL {\n",
    "                        LOAD CSV WITH HEADERS FROM $csv_link AS row FIELDTERMINATOR ';'\n",
    "                        MERGE (p1:Person {name: toString(row['ФИО участника события 1'])})\n",
    "                        MERGE (p2:Person {name: toString(row['ФИО участника события 2'])})\n",
    "                        }\n",
    "                       \"\"\" , csv_link = csv_link\n",
    "                        )\n",
    "with driver.session(database=\"mytest\") as session:\n",
    "            session.execute_write(load_people, link_to_file)"
   ]
  },
  {
   "cell_type": "markdown",
   "id": "575ce3e4",
   "metadata": {},
   "source": [
    "9. Создадим связи между событиями и участниками (связь направлена от участика к событию, в котором он участвовал)"
   ]
  },
  {
   "cell_type": "code",
   "execution_count": null,
   "id": "4051bb5e",
   "metadata": {},
   "outputs": [],
   "source": [
    "def create_edges(tx, csv_link):\n",
    "    result =  tx.run(\"\"\"CALL {\n",
    "                        LOAD CSV WITH HEADERS FROM $csv_link AS row FIELDTERMINATOR ';'\n",
    "                        MATCH (p1:Person {name: toString(row['ФИО участника события 1'])})\n",
    "                        MATCH (p2:Person {name: toString(row['ФИО участника события 2'])})\n",
    "                        MATCH  (e:Event {eventId: toInteger(row['id события'])})\n",
    "                        MERGE (p1)-[x:PARTICIPATED]->(e)\n",
    "                        MERGE (p2)-[y:PARTICIPATED]->(e)\n",
    "                        }\n",
    "                       \"\"\" , csv_link = csv_link\n",
    "                        )\n",
    "with driver.session(database=\"mytest\") as session:\n",
    "            session.execute_write(create_edges, link_to_file)"
   ]
  },
  {
   "cell_type": "markdown",
   "id": "c65a0757",
   "metadata": {},
   "source": [
    "Посмотрим, кто принимал участие в событиях больше всех:"
   ]
  },
  {
   "cell_type": "code",
   "execution_count": 11,
   "id": "fd617581",
   "metadata": {
    "scrolled": true
   },
   "outputs": [
    {
     "name": "stdout",
     "output_type": "stream",
     "text": [
      "Самый активный участник - Ахромеева Алина Ивановна. Количество событий участника - 50\n"
     ]
    }
   ],
   "source": [
    "def most_active_person(tx):\n",
    "    result =  tx.run(\"\"\"\n",
    "                        MATCH (p:Person)-[r:PARTICIPATED]->(e:Event)\n",
    "                        WITH p, count(r) as rels, collect(e) as events\n",
    "                        WHERE rels > 1\n",
    "                        RETURN p.name AS name, rels AS rels\n",
    "                        ORDER BY SIZE(events) DESC LIMIT 1\n",
    "                       \"\"\"\n",
    "                        )\n",
    "    return result.values(\"name\", \"rels\")\n",
    "\n",
    "with driver.session(database=\"mytest\") as session:\n",
    "            result_list = session.execute_write(most_active_person)    \n",
    "\n",
    "print(\"Самый активный участник - \" + str(result_list[0][0]) + \". Количество событий участника - \" + str(result_list[0][1]))\n",
    "\n",
    "\n"
   ]
  },
  {
   "cell_type": "markdown",
   "id": "847e87fe",
   "metadata": {},
   "source": [
    "10. Создадим связи между участниками. \n",
    "Будем считать, что если 2 человека участвовали в одном событии, то они знакомы. "
   ]
  },
  {
   "cell_type": "code",
   "execution_count": null,
   "id": "9859828a",
   "metadata": {},
   "outputs": [],
   "source": [
    "def create_friends(tx, csv_link):\n",
    "    result =  tx.run(\"\"\"CALL {\n",
    "                        LOAD CSV WITH HEADERS FROM $csv_link AS row FIELDTERMINATOR ';'\n",
    "                        MATCH (p1:Person {name: toString(row['ФИО участника события 1'])})\n",
    "                        MATCH (p2:Person {name: toString(row['ФИО участника события 2'])})\n",
    "                        MERGE (p1)-[x:KNOWS]-(p2)\n",
    "                        MERGE (p2)-[y:KNOWS]-(p1)\n",
    "                        }\n",
    "                       \"\"\" , csv_link = csv_link\n",
    "                        )\n",
    "with driver.session(database=\"mytest\") as session:\n",
    "            session.execute_write(create_friends, link_to_file)"
   ]
  },
  {
   "cell_type": "markdown",
   "id": "453243f7",
   "metadata": {},
   "source": [
    "Проверим, у кого больше всех знакомств:"
   ]
  },
  {
   "cell_type": "code",
   "execution_count": 10,
   "id": "1e0365ae",
   "metadata": {},
   "outputs": [
    {
     "name": "stdout",
     "output_type": "stream",
     "text": [
      "Участник у кого больше всего знакомств - Ахромеева Алина Ивановна. Количество знакомств участника - 50\n"
     ]
    }
   ],
   "source": [
    "def most_friends_person(tx):\n",
    "    result =  tx.run(\"\"\"\n",
    "                        MATCH (p:Person)-[r:KNOWS]-(f:Person)\n",
    "                        WITH p, count(r) as friends\n",
    "                        RETURN p.name AS name, friends\n",
    "                        ORDER BY friends DESC LIMIT 1\n",
    "                       \"\"\"\n",
    "                        )\n",
    "    return result.values(\"name\", \"friends\")\n",
    "\n",
    "with driver.session(database=\"mytest\") as session:\n",
    "            result_list = session.execute_read(most_friends_person)    \n",
    "\n",
    "print(\"Участник у кого больше всего знакомств - \" + str(result_list[0][0]) + \". Количество знакомств участника - \" + str(result_list[0][1]))"
   ]
  },
  {
   "cell_type": "markdown",
   "id": "3bf48ef0",
   "metadata": {},
   "source": [
    "Больше всех знакомых у той же персоны, которая принимала участие в большем количестве событий."
   ]
  },
  {
   "cell_type": "markdown",
   "id": "70764fed",
   "metadata": {},
   "source": [
    "10. Визуализация\n",
    "При помощи библиотеки yfiles_jupyter_graphs создадим виджет с визуализацией прямо в Jupyter блокноте.\n",
    "Для начала получим из БД граф содержащий все узлы, связанные знакомствами (связью KNOWS)."
   ]
  },
  {
   "cell_type": "code",
   "execution_count": 12,
   "id": "7da6998e",
   "metadata": {},
   "outputs": [],
   "source": [
    "with driver.session(database=\"mytest\") as session:\n",
    "            graph = session.run(\"\"\"MATCH p=()-[r:KNOWS]-() RETURN p\"\"\").graph()"
   ]
  },
  {
   "cell_type": "markdown",
   "id": "836f290e",
   "metadata": {},
   "source": [
    "Настроим представление виджета и запустим его (будем показывать его по умолчанию в органическом представлении графа и с выводом ФИО в качестве подписи к узлу):"
   ]
  },
  {
   "cell_type": "code",
   "execution_count": 13,
   "id": "0d0e0bfb",
   "metadata": {
    "scrolled": true
   },
   "outputs": [
    {
     "data": {
      "application/vnd.jupyter.widget-view+json": {
       "model_id": "63e733ee0c9949ab97480d2b231e25e4",
       "version_major": 2,
       "version_minor": 0
      },
      "text/plain": [
       "GraphWidget(layout=Layout(height='500px', width='100%'))"
      ]
     },
     "metadata": {},
     "output_type": "display_data"
    }
   ],
   "source": [
    "w = GraphWidget(graph = graph)\n",
    "w.set_graph_layout(\"organic\")\n",
    "w.set_node_label_mapping(lambda index, node: node[\"properties\"][\"name\"] if node[\"properties\"][\"label\"] == \"Person\" else node[\"properties\"][\"label\"])\n",
    "w.show()"
   ]
  },
  {
   "cell_type": "markdown",
   "id": "d82f75c5",
   "metadata": {},
   "source": [
    "Визуально мы можем выделить 6 сообществ. Остальные \"сообщества\" представлены парами участников."
   ]
  },
  {
   "cell_type": "markdown",
   "id": "7152173d",
   "metadata": {},
   "source": [
    "10. Проведем анализ нашего графа при помощи библиотеки БД Neo4j Graph Data Science"
   ]
  },
  {
   "cell_type": "markdown",
   "id": "5fb8e1fb",
   "metadata": {},
   "source": [
    "10.1 Для применения алгоритмов в первую очередь необходимо создать в БД in-memory графы. Создадим граф содержащий участников, связанных связьу KNOWS, укажем что связи будут ненаправленные."
   ]
  },
  {
   "cell_type": "code",
   "execution_count": 14,
   "id": "9e5b29bd",
   "metadata": {},
   "outputs": [],
   "source": [
    "def create_graph_knows(tx):\n",
    "    result =  tx.run(\"\"\"CALL gds.graph.project(\n",
    "                            'interactions',\n",
    "                            'Person',\n",
    "                            {KNOWS:\n",
    "                                {\n",
    "                                orientation:'UNDIRECTED'\n",
    "                                }\n",
    "                            }\n",
    "                            )\n",
    "                     \"\"\"\n",
    "                        )\n",
    "    return list(result)\n",
    "\n",
    "def drop_draph_knows(tx): #используем эту функцию когда нужно будет удалить ненужные графы после работы\n",
    "    result = tx.run(\"\"\"CALL gds.graph.drop('interactions')\"\"\") \n",
    "\n",
    "with driver.session(database=\"mytest\") as session:\n",
    "            result = session.execute_write(create_graph_knows) \n"
   ]
  },
  {
   "cell_type": "markdown",
   "id": "4199983e",
   "metadata": {},
   "source": [
    "Создадим также граф содержащий как участников, так и события + связь участников с событиями PARTICIPATED. "
   ]
  },
  {
   "cell_type": "markdown",
   "id": "2e5bd6fa",
   "metadata": {},
   "source": [
    "Просмотрим наш список графов, чтобы удостовериться, что всё правильно создалось:"
   ]
  },
  {
   "cell_type": "code",
   "execution_count": null,
   "id": "e5201e8c",
   "metadata": {},
   "outputs": [],
   "source": [
    "def graphs_list(tx):\n",
    "    result =  tx.run(\"\"\"CALL gds.graph.list()\n",
    "                            \n",
    "                     \"\"\"\n",
    "                        )\n",
    "    return list(result)\n",
    "\n",
    "\n",
    "with driver.session(database=\"mytest\") as session:\n",
    "            result = session.execute_read(graphs_list) \n",
    "    \n",
    "pd.DataFrame(result).head(10)"
   ]
  },
  {
   "cell_type": "markdown",
   "id": "269ce7b3",
   "metadata": {},
   "source": [
    "10.2 Рассчитаем некоторые меры центральности (centrality) для узлов нашей сети."
   ]
  },
  {
   "cell_type": "markdown",
   "id": "64a4406f",
   "metadata": {},
   "source": [
    "1. PageRank\n",
    "Алгоритм PageRank измеряет важность каждого узла в графе на основе количества входящих отношений и важности соответствующих исходных узлов. Основное предположение состоит в том, что узел важен настолько, насколько важны узлы, которые ссылаются на него. (Применяется обычно для веб страниц). В данной библиотеке может применяться и к ненаправленным графам.\n",
    "https://neo4j.com/docs/graph-data-science/current/algorithms/page-rank/"
   ]
  },
  {
   "cell_type": "code",
   "execution_count": 15,
   "id": "08d3fb67",
   "metadata": {
    "scrolled": false
   },
   "outputs": [
    {
     "data": {
      "text/html": [
       "<div>\n",
       "<style scoped>\n",
       "    .dataframe tbody tr th:only-of-type {\n",
       "        vertical-align: middle;\n",
       "    }\n",
       "\n",
       "    .dataframe tbody tr th {\n",
       "        vertical-align: top;\n",
       "    }\n",
       "\n",
       "    .dataframe thead th {\n",
       "        text-align: right;\n",
       "    }\n",
       "</style>\n",
       "<table border=\"1\" class=\"dataframe\">\n",
       "  <thead>\n",
       "    <tr style=\"text-align: right;\">\n",
       "      <th></th>\n",
       "      <th>0</th>\n",
       "      <th>1</th>\n",
       "    </tr>\n",
       "  </thead>\n",
       "  <tbody>\n",
       "    <tr>\n",
       "      <th>0</th>\n",
       "      <td>Ахромеева Алина Ивановна</td>\n",
       "      <td>22.602141</td>\n",
       "    </tr>\n",
       "    <tr>\n",
       "      <th>1</th>\n",
       "      <td>Башнина Антонина Глебовна</td>\n",
       "      <td>6.702704</td>\n",
       "    </tr>\n",
       "    <tr>\n",
       "      <th>2</th>\n",
       "      <td>Медведева Дарья Алексеевна</td>\n",
       "      <td>3.169496</td>\n",
       "    </tr>\n",
       "    <tr>\n",
       "      <th>3</th>\n",
       "      <td>Диомидов Игорь Ильдарович</td>\n",
       "      <td>2.496732</td>\n",
       "    </tr>\n",
       "    <tr>\n",
       "      <th>4</th>\n",
       "      <td>Зимнухова Карина Даниловна</td>\n",
       "      <td>2.496732</td>\n",
       "    </tr>\n",
       "  </tbody>\n",
       "</table>\n",
       "</div>"
      ],
      "text/plain": [
       "                            0          1\n",
       "0    Ахромеева Алина Ивановна  22.602141\n",
       "1   Башнина Антонина Глебовна   6.702704\n",
       "2  Медведева Дарья Алексеевна   3.169496\n",
       "3   Диомидов Игорь Ильдарович   2.496732\n",
       "4  Зимнухова Карина Даниловна   2.496732"
      ]
     },
     "execution_count": 15,
     "metadata": {},
     "output_type": "execute_result"
    }
   ],
   "source": [
    "def page_rank(tx):\n",
    "    result = tx.run(\n",
    "                    \"\"\"CALL gds.pageRank.stream('interactions')\n",
    "                    YIELD nodeId, score\n",
    "                    RETURN gds.util.asNode(nodeId).name AS name, score\n",
    "                    ORDER BY score DESC, name ASC\n",
    "                    LIMIT 10\"\"\"\n",
    "                    )\n",
    "    return list(result)\n",
    "\n",
    "with driver.session(database=\"mytest\") as session:\n",
    "            result = session.execute_read(page_rank) \n",
    "\n",
    "result\n",
    "pd.DataFrame(result).head()"
   ]
  },
  {
   "cell_type": "markdown",
   "id": "8795b049",
   "metadata": {},
   "source": [
    "Вновь участник Ахромеева Алина Ивановна занимает лидирующую позицию."
   ]
  },
  {
   "cell_type": "markdown",
   "id": "becf22a4",
   "metadata": {},
   "source": [
    "2. Степень посредничества\n",
    "Степень посредничества (betweenness centrality) является мерой того, как часто кратчайшие пути проходят через данную вершину.\n",
    "https://neo4j.com/docs/graph-data-science/current/algorithms/betweenness-centrality/"
   ]
  },
  {
   "cell_type": "code",
   "execution_count": 16,
   "id": "3e9de09b",
   "metadata": {},
   "outputs": [
    {
     "data": {
      "text/html": [
       "<div>\n",
       "<style scoped>\n",
       "    .dataframe tbody tr th:only-of-type {\n",
       "        vertical-align: middle;\n",
       "    }\n",
       "\n",
       "    .dataframe tbody tr th {\n",
       "        vertical-align: top;\n",
       "    }\n",
       "\n",
       "    .dataframe thead th {\n",
       "        text-align: right;\n",
       "    }\n",
       "</style>\n",
       "<table border=\"1\" class=\"dataframe\">\n",
       "  <thead>\n",
       "    <tr style=\"text-align: right;\">\n",
       "      <th></th>\n",
       "      <th>name</th>\n",
       "      <th>score</th>\n",
       "    </tr>\n",
       "  </thead>\n",
       "  <tbody>\n",
       "    <tr>\n",
       "      <th>0</th>\n",
       "      <td>Ахромеева Алина Ивановна</td>\n",
       "      <td>1225.0</td>\n",
       "    </tr>\n",
       "    <tr>\n",
       "      <th>1</th>\n",
       "      <td>Башнина Антонина Глебовна</td>\n",
       "      <td>91.0</td>\n",
       "    </tr>\n",
       "    <tr>\n",
       "      <th>2</th>\n",
       "      <td>Шолохов Игорь Робертович</td>\n",
       "      <td>41.0</td>\n",
       "    </tr>\n",
       "    <tr>\n",
       "      <th>3</th>\n",
       "      <td>Диомидов Игорь Ильдарович</td>\n",
       "      <td>38.0</td>\n",
       "    </tr>\n",
       "    <tr>\n",
       "      <th>4</th>\n",
       "      <td>Зимнухова Карина Даниловна</td>\n",
       "      <td>38.0</td>\n",
       "    </tr>\n",
       "    <tr>\n",
       "      <th>5</th>\n",
       "      <td>Двигубская Валентина Геннадьевна</td>\n",
       "      <td>37.0</td>\n",
       "    </tr>\n",
       "    <tr>\n",
       "      <th>6</th>\n",
       "      <td>Бугайчук Роман Эдуардович</td>\n",
       "      <td>36.0</td>\n",
       "    </tr>\n",
       "    <tr>\n",
       "      <th>7</th>\n",
       "      <td>Анихнова Тамара Руслановна</td>\n",
       "      <td>35.0</td>\n",
       "    </tr>\n",
       "    <tr>\n",
       "      <th>8</th>\n",
       "      <td>Радионова Тамара Ярославовна</td>\n",
       "      <td>35.0</td>\n",
       "    </tr>\n",
       "    <tr>\n",
       "      <th>9</th>\n",
       "      <td>Медведева Дарья Алексеевна</td>\n",
       "      <td>15.0</td>\n",
       "    </tr>\n",
       "  </tbody>\n",
       "</table>\n",
       "</div>"
      ],
      "text/plain": [
       "                               name   score\n",
       "0          Ахромеева Алина Ивановна  1225.0\n",
       "1         Башнина Антонина Глебовна    91.0\n",
       "2          Шолохов Игорь Робертович    41.0\n",
       "3         Диомидов Игорь Ильдарович    38.0\n",
       "4        Зимнухова Карина Даниловна    38.0\n",
       "5  Двигубская Валентина Геннадьевна    37.0\n",
       "6         Бугайчук Роман Эдуардович    36.0\n",
       "7        Анихнова Тамара Руслановна    35.0\n",
       "8      Радионова Тамара Ярославовна    35.0\n",
       "9        Медведева Дарья Алексеевна    15.0"
      ]
     },
     "execution_count": 16,
     "metadata": {},
     "output_type": "execute_result"
    }
   ],
   "source": [
    "def betweenness(tx):\n",
    "    result = tx.run(\n",
    "                    \"\"\"CALL gds.betweenness.stream('interactions')\n",
    "                    YIELD nodeId, score\n",
    "                    RETURN gds.util.asNode(nodeId).name AS name, score\n",
    "                    ORDER BY score DESC, name ASC\n",
    "                    LIMIT 10\"\"\"\n",
    "                    )\n",
    "    return list(result)\n",
    "\n",
    "with driver.session(database=\"mytest\") as session:\n",
    "            result = session.execute_read(betweenness) \n",
    "\n",
    "\n",
    "(pd.DataFrame(result, columns=['name', 'score'])).head(10)\n",
    "        "
   ]
  },
  {
   "cell_type": "markdown",
   "id": "976d5fa2",
   "metadata": {},
   "source": [
    "3. Степень центральности\n",
    "Близость к центру или Степень центральности (Degree centrality) – показывает, кто является наиболее активным узлом в сети. Измеряется количеством связей с другими узлами в сети."
   ]
  },
  {
   "cell_type": "code",
   "execution_count": 17,
   "id": "87718647",
   "metadata": {},
   "outputs": [
    {
     "data": {
      "text/html": [
       "<div>\n",
       "<style scoped>\n",
       "    .dataframe tbody tr th:only-of-type {\n",
       "        vertical-align: middle;\n",
       "    }\n",
       "\n",
       "    .dataframe tbody tr th {\n",
       "        vertical-align: top;\n",
       "    }\n",
       "\n",
       "    .dataframe thead th {\n",
       "        text-align: right;\n",
       "    }\n",
       "</style>\n",
       "<table border=\"1\" class=\"dataframe\">\n",
       "  <thead>\n",
       "    <tr style=\"text-align: right;\">\n",
       "      <th></th>\n",
       "      <th>name</th>\n",
       "      <th>score</th>\n",
       "    </tr>\n",
       "  </thead>\n",
       "  <tbody>\n",
       "    <tr>\n",
       "      <th>0</th>\n",
       "      <td>Ахромеева Алина Ивановна</td>\n",
       "      <td>50.0</td>\n",
       "    </tr>\n",
       "    <tr>\n",
       "      <th>1</th>\n",
       "      <td>Башнина Антонина Глебовна</td>\n",
       "      <td>14.0</td>\n",
       "    </tr>\n",
       "    <tr>\n",
       "      <th>2</th>\n",
       "      <td>Медведева Дарья Алексеевна</td>\n",
       "      <td>6.0</td>\n",
       "    </tr>\n",
       "    <tr>\n",
       "      <th>3</th>\n",
       "      <td>Диомидов Игорь Ильдарович</td>\n",
       "      <td>5.0</td>\n",
       "    </tr>\n",
       "    <tr>\n",
       "      <th>4</th>\n",
       "      <td>Зимнухова Карина Даниловна</td>\n",
       "      <td>5.0</td>\n",
       "    </tr>\n",
       "    <tr>\n",
       "      <th>5</th>\n",
       "      <td>Шолохов Игорь Робертович</td>\n",
       "      <td>4.0</td>\n",
       "    </tr>\n",
       "    <tr>\n",
       "      <th>6</th>\n",
       "      <td>Двигубская Валентина Геннадьевна</td>\n",
       "      <td>3.0</td>\n",
       "    </tr>\n",
       "    <tr>\n",
       "      <th>7</th>\n",
       "      <td>Пафомова Кира Вадимовна</td>\n",
       "      <td>3.0</td>\n",
       "    </tr>\n",
       "    <tr>\n",
       "      <th>8</th>\n",
       "      <td>Анихнова Тамара Руслановна</td>\n",
       "      <td>2.0</td>\n",
       "    </tr>\n",
       "    <tr>\n",
       "      <th>9</th>\n",
       "      <td>Батиевская Ангелина Романовна</td>\n",
       "      <td>2.0</td>\n",
       "    </tr>\n",
       "  </tbody>\n",
       "</table>\n",
       "</div>"
      ],
      "text/plain": [
       "                               name  score\n",
       "0          Ахромеева Алина Ивановна   50.0\n",
       "1         Башнина Антонина Глебовна   14.0\n",
       "2        Медведева Дарья Алексеевна    6.0\n",
       "3         Диомидов Игорь Ильдарович    5.0\n",
       "4        Зимнухова Карина Даниловна    5.0\n",
       "5          Шолохов Игорь Робертович    4.0\n",
       "6  Двигубская Валентина Геннадьевна    3.0\n",
       "7           Пафомова Кира Вадимовна    3.0\n",
       "8        Анихнова Тамара Руслановна    2.0\n",
       "9     Батиевская Ангелина Романовна    2.0"
      ]
     },
     "execution_count": 17,
     "metadata": {},
     "output_type": "execute_result"
    }
   ],
   "source": [
    "def degree(tx):\n",
    "    result = tx.run(\n",
    "                    \"\"\"CALL gds.degree.stream('interactions')\n",
    "                    YIELD nodeId, score\n",
    "                    RETURN gds.util.asNode(nodeId).name AS name, score\n",
    "                    ORDER BY score DESC, name ASC\n",
    "                    LIMIT 10\"\"\"\n",
    "                    )\n",
    "    return list(result)\n",
    "\n",
    "with driver.session(database=\"mytest\") as session:\n",
    "            result = session.execute_read(degree) \n",
    "\n",
    "\n",
    "(pd.DataFrame(result, columns=['name', 'score'])).head(10)"
   ]
  },
  {
   "cell_type": "markdown",
   "id": "3188a514",
   "metadata": {},
   "source": [
    "В данном случае алгоритм выдал нам то же значение, что мы и получили ранее при помощи запроса - участника, у которого больше всего знакомств."
   ]
  },
  {
   "cell_type": "markdown",
   "id": "fbc67577",
   "metadata": {},
   "source": [
    "10.3 Выделение сообществ"
   ]
  },
  {
   "cell_type": "markdown",
   "id": "3c765e40",
   "metadata": {},
   "source": [
    "1. Метод Лувена https://neo4j.com/docs/graph-data-science/current/algorithms/louvain/"
   ]
  },
  {
   "cell_type": "markdown",
   "id": "78000f41",
   "metadata": {},
   "source": [
    "Выделим сообщества:"
   ]
  },
  {
   "cell_type": "code",
   "execution_count": 18,
   "id": "bce49968",
   "metadata": {},
   "outputs": [
    {
     "data": {
      "text/html": [
       "<div>\n",
       "<style scoped>\n",
       "    .dataframe tbody tr th:only-of-type {\n",
       "        vertical-align: middle;\n",
       "    }\n",
       "\n",
       "    .dataframe tbody tr th {\n",
       "        vertical-align: top;\n",
       "    }\n",
       "\n",
       "    .dataframe thead th {\n",
       "        text-align: right;\n",
       "    }\n",
       "</style>\n",
       "<table border=\"1\" class=\"dataframe\">\n",
       "  <thead>\n",
       "    <tr style=\"text-align: right;\">\n",
       "      <th></th>\n",
       "      <th>community_id</th>\n",
       "      <th>members</th>\n",
       "    </tr>\n",
       "  </thead>\n",
       "  <tbody>\n",
       "    <tr>\n",
       "      <th>0</th>\n",
       "      <td>8207</td>\n",
       "      <td>51</td>\n",
       "    </tr>\n",
       "    <tr>\n",
       "      <th>1</th>\n",
       "      <td>8327</td>\n",
       "      <td>15</td>\n",
       "    </tr>\n",
       "    <tr>\n",
       "      <th>2</th>\n",
       "      <td>8489</td>\n",
       "      <td>13</td>\n",
       "    </tr>\n",
       "    <tr>\n",
       "      <th>3</th>\n",
       "      <td>8647</td>\n",
       "      <td>13</td>\n",
       "    </tr>\n",
       "    <tr>\n",
       "      <th>4</th>\n",
       "      <td>8859</td>\n",
       "      <td>7</td>\n",
       "    </tr>\n",
       "    <tr>\n",
       "      <th>5</th>\n",
       "      <td>2140</td>\n",
       "      <td>6</td>\n",
       "    </tr>\n",
       "    <tr>\n",
       "      <th>6</th>\n",
       "      <td>4950</td>\n",
       "      <td>2</td>\n",
       "    </tr>\n",
       "    <tr>\n",
       "      <th>7</th>\n",
       "      <td>4949</td>\n",
       "      <td>2</td>\n",
       "    </tr>\n",
       "    <tr>\n",
       "      <th>8</th>\n",
       "      <td>4946</td>\n",
       "      <td>2</td>\n",
       "    </tr>\n",
       "    <tr>\n",
       "      <th>9</th>\n",
       "      <td>4953</td>\n",
       "      <td>2</td>\n",
       "    </tr>\n",
       "  </tbody>\n",
       "</table>\n",
       "</div>"
      ],
      "text/plain": [
       "   community_id  members\n",
       "0          8207       51\n",
       "1          8327       15\n",
       "2          8489       13\n",
       "3          8647       13\n",
       "4          8859        7\n",
       "5          2140        6\n",
       "6          4950        2\n",
       "7          4949        2\n",
       "8          4946        2\n",
       "9          4953        2"
      ]
     },
     "execution_count": 18,
     "metadata": {},
     "output_type": "execute_result"
    }
   ],
   "source": [
    "def louvain(tx):\n",
    "    result = tx.run(\n",
    "                    \"\"\"CALL gds.louvain.stream(\n",
    "                    'interactions')\n",
    "                    YIELD nodeId, communityId\n",
    "                    RETURN communityId, COUNT(DISTINCT nodeId) AS members\n",
    "                    ORDER BY members DESC\n",
    "                    LIMIT 10\"\"\"\n",
    "                    )\n",
    "    return list(result)\n",
    "\n",
    "with driver.session(database=\"mytest\") as session:\n",
    "            result = session.execute_read(louvain) \n",
    "\n",
    "louvain_df = pd.DataFrame(result, columns=['community_id', 'members'])\n",
    "louvain_df.head(10)\n"
   ]
  },
  {
   "cell_type": "markdown",
   "id": "e9ef27bb",
   "metadata": {},
   "source": [
    "Мы видим, что на основании знакомств у нас есть 6 сообществ - то же самое, что мы могли увидеть и визуально. Остальные сообщества являются просто парами которые принимали участие в одном событии."
   ]
  },
  {
   "cell_type": "markdown",
   "id": "413f5ca4",
   "metadata": {},
   "source": [
    "Заберем себе id первых 6 сообществ, они нам понадобятся для цветовой идентификации при визуализации."
   ]
  },
  {
   "cell_type": "code",
   "execution_count": 22,
   "id": "3ec2fef5",
   "metadata": {
    "scrolled": true
   },
   "outputs": [
    {
     "data": {
      "text/plain": [
       "[8207, 8327, 8489, 8647, 8859, 2140]"
      ]
     },
     "execution_count": 22,
     "metadata": {},
     "output_type": "execute_result"
    }
   ],
   "source": [
    "louv_comm_id_list = louvain_df['community_id']. tolist()[:6]\n",
    "louv_comm_id_list"
   ]
  },
  {
   "cell_type": "markdown",
   "id": "37cb4781",
   "metadata": {},
   "source": [
    "Присвоим участникам сообществ соответствующие метки:"
   ]
  },
  {
   "cell_type": "code",
   "execution_count": 19,
   "id": "9f90ec7f",
   "metadata": {
    "scrolled": true
   },
   "outputs": [
    {
     "data": {
      "text/html": [
       "<div>\n",
       "<style scoped>\n",
       "    .dataframe tbody tr th:only-of-type {\n",
       "        vertical-align: middle;\n",
       "    }\n",
       "\n",
       "    .dataframe tbody tr th {\n",
       "        vertical-align: top;\n",
       "    }\n",
       "\n",
       "    .dataframe thead th {\n",
       "        text-align: right;\n",
       "    }\n",
       "</style>\n",
       "<table border=\"1\" class=\"dataframe\">\n",
       "  <thead>\n",
       "    <tr style=\"text-align: right;\">\n",
       "      <th></th>\n",
       "      <th>community_count</th>\n",
       "      <th>modularity</th>\n",
       "      <th>modularities</th>\n",
       "    </tr>\n",
       "  </thead>\n",
       "  <tbody>\n",
       "    <tr>\n",
       "      <th>0</th>\n",
       "      <td>4903</td>\n",
       "      <td>0.999679</td>\n",
       "      <td>[0.997490159999997, 0.9994830599999963, 0.9996...</td>\n",
       "    </tr>\n",
       "  </tbody>\n",
       "</table>\n",
       "</div>"
      ],
      "text/plain": [
       "   community_count  modularity  \\\n",
       "0             4903    0.999679   \n",
       "\n",
       "                                        modularities  \n",
       "0  [0.997490159999997, 0.9994830599999963, 0.9996...  "
      ]
     },
     "execution_count": 19,
     "metadata": {},
     "output_type": "execute_result"
    }
   ],
   "source": [
    "def louvain_property(tx):\n",
    "    result = tx.run(\n",
    "                    \"\"\"CALL gds.louvain.write(\n",
    "                        'interactions', \n",
    "                        {\n",
    "                            writeProperty: 'louv_community'\n",
    "                       }\n",
    "                                            )\n",
    "                        YIELD communityCount, modularity, modularities\"\"\"\n",
    "                    )\n",
    "    return list(result)\n",
    "\n",
    "with driver.session(database=\"mytest\") as session:\n",
    "            result = session.execute_write(louvain_property) \n",
    "\n",
    "\n",
    "(pd.DataFrame(result, columns=['community_count', 'modularity', 'modularities'])).head()\n"
   ]
  },
  {
   "cell_type": "markdown",
   "id": "8b9024b8",
   "metadata": {},
   "source": [
    "При этом в режиме записи возвращается строка содержащая информацию о количестве сообществ, модулярности, и истории изменения модулярности в ходе исполнения алгоритма. Мы видим, что у нас есть 4903 сообщества и очень высокая модулярность графа - почти 1. Т.е. сообщества почти не связаны между собой."
   ]
  },
  {
   "cell_type": "markdown",
   "id": "56f9ca85",
   "metadata": {},
   "source": [
    "2. Алгоритм распространения метки - Label propagation algorithm"
   ]
  },
  {
   "cell_type": "markdown",
   "id": "7690d901",
   "metadata": {},
   "source": [
    "Произведем также выделение сообществ при помощи другого алгоритма (Label propagation algorithm). "
   ]
  },
  {
   "cell_type": "code",
   "execution_count": 20,
   "id": "c29c6b32",
   "metadata": {
    "scrolled": true
   },
   "outputs": [
    {
     "data": {
      "text/html": [
       "<div>\n",
       "<style scoped>\n",
       "    .dataframe tbody tr th:only-of-type {\n",
       "        vertical-align: middle;\n",
       "    }\n",
       "\n",
       "    .dataframe tbody tr th {\n",
       "        vertical-align: top;\n",
       "    }\n",
       "\n",
       "    .dataframe thead th {\n",
       "        text-align: right;\n",
       "    }\n",
       "</style>\n",
       "<table border=\"1\" class=\"dataframe\">\n",
       "  <thead>\n",
       "    <tr style=\"text-align: right;\">\n",
       "      <th></th>\n",
       "      <th>community_id</th>\n",
       "      <th>members</th>\n",
       "    </tr>\n",
       "  </thead>\n",
       "  <tbody>\n",
       "    <tr>\n",
       "      <th>0</th>\n",
       "      <td>20162</td>\n",
       "      <td>51</td>\n",
       "    </tr>\n",
       "    <tr>\n",
       "      <th>1</th>\n",
       "      <td>20282</td>\n",
       "      <td>15</td>\n",
       "    </tr>\n",
       "    <tr>\n",
       "      <th>2</th>\n",
       "      <td>1698</td>\n",
       "      <td>13</td>\n",
       "    </tr>\n",
       "    <tr>\n",
       "      <th>3</th>\n",
       "      <td>20814</td>\n",
       "      <td>7</td>\n",
       "    </tr>\n",
       "    <tr>\n",
       "      <th>4</th>\n",
       "      <td>1766</td>\n",
       "      <td>6</td>\n",
       "    </tr>\n",
       "    <tr>\n",
       "      <th>5</th>\n",
       "      <td>21735</td>\n",
       "      <td>5</td>\n",
       "    </tr>\n",
       "    <tr>\n",
       "      <th>6</th>\n",
       "      <td>20602</td>\n",
       "      <td>5</td>\n",
       "    </tr>\n",
       "    <tr>\n",
       "      <th>7</th>\n",
       "      <td>2891</td>\n",
       "      <td>3</td>\n",
       "    </tr>\n",
       "    <tr>\n",
       "      <th>8</th>\n",
       "      <td>4950</td>\n",
       "      <td>2</td>\n",
       "    </tr>\n",
       "    <tr>\n",
       "      <th>9</th>\n",
       "      <td>4949</td>\n",
       "      <td>2</td>\n",
       "    </tr>\n",
       "  </tbody>\n",
       "</table>\n",
       "</div>"
      ],
      "text/plain": [
       "   community_id  members\n",
       "0         20162       51\n",
       "1         20282       15\n",
       "2          1698       13\n",
       "3         20814        7\n",
       "4          1766        6\n",
       "5         21735        5\n",
       "6         20602        5\n",
       "7          2891        3\n",
       "8          4950        2\n",
       "9          4949        2"
      ]
     },
     "execution_count": 20,
     "metadata": {},
     "output_type": "execute_result"
    }
   ],
   "source": [
    "def label_propagation(tx):\n",
    "    result = tx.run(\n",
    "                    \"\"\"CALL gds.labelPropagation.stream(\n",
    "                     'interactions'\n",
    "                        )\n",
    "                    YIELD nodeId, communityId\n",
    "                    RETURN communityId, COUNT(DISTINCT nodeId) AS members\n",
    "                    ORDER BY members DESC\n",
    "                    LIMIT 10\"\"\"\n",
    "                    )\n",
    "    return list(result)\n",
    "\n",
    "with driver.session(database=\"mytest\") as session:\n",
    "            result = session.execute_read(label_propagation) \n",
    "\n",
    "\n",
    "label_propagation_df = pd.DataFrame(result, columns=['community_id', 'members'])\n",
    "label_propagation_df.head(10)\n",
    "\n",
    "\n"
   ]
  },
  {
   "cell_type": "markdown",
   "id": "38f3b7c6",
   "metadata": {},
   "source": [
    "Алгоритм распространения метки выделил 8 сообществ помимо пар участников. Также сохраним эти метки в списке."
   ]
  },
  {
   "cell_type": "code",
   "execution_count": 21,
   "id": "aa5d607b",
   "metadata": {},
   "outputs": [
    {
     "data": {
      "text/plain": [
       "[20162, 20282, 1698, 20814, 1766, 21735, 20602, 2891]"
      ]
     },
     "execution_count": 21,
     "metadata": {},
     "output_type": "execute_result"
    }
   ],
   "source": [
    "label_propagation_id_list = label_propagation_df['community_id']. tolist()[:8]\n",
    "label_propagation_id_list"
   ]
  },
  {
   "cell_type": "code",
   "execution_count": null,
   "id": "b803d8fa",
   "metadata": {},
   "outputs": [],
   "source": [
    "Присвоим участникам сообществ также метки с id сообществ, выделенных при помощи этого алгоритма:"
   ]
  },
  {
   "cell_type": "code",
   "execution_count": 23,
   "id": "3086220c",
   "metadata": {
    "scrolled": true
   },
   "outputs": [
    {
     "data": {
      "text/html": [
       "<div>\n",
       "<style scoped>\n",
       "    .dataframe tbody tr th:only-of-type {\n",
       "        vertical-align: middle;\n",
       "    }\n",
       "\n",
       "    .dataframe tbody tr th {\n",
       "        vertical-align: top;\n",
       "    }\n",
       "\n",
       "    .dataframe thead th {\n",
       "        text-align: right;\n",
       "    }\n",
       "</style>\n",
       "<table border=\"1\" class=\"dataframe\">\n",
       "  <thead>\n",
       "    <tr style=\"text-align: right;\">\n",
       "      <th></th>\n",
       "      <th>community_count</th>\n",
       "      <th>ranIterations</th>\n",
       "      <th>didConverge</th>\n",
       "    </tr>\n",
       "  </thead>\n",
       "  <tbody>\n",
       "    <tr>\n",
       "      <th>0</th>\n",
       "      <td>4905</td>\n",
       "      <td>4</td>\n",
       "      <td>True</td>\n",
       "    </tr>\n",
       "  </tbody>\n",
       "</table>\n",
       "</div>"
      ],
      "text/plain": [
       "   community_count  ranIterations  didConverge\n",
       "0             4905              4         True"
      ]
     },
     "execution_count": 23,
     "metadata": {},
     "output_type": "execute_result"
    }
   ],
   "source": [
    "def label_propagation_property(tx):\n",
    "    result = tx.run(\n",
    "                    \"\"\"CALL gds.labelPropagation.write(\n",
    "                       'interactions', \n",
    "                           {\n",
    "                               writeProperty: 'lbl_prop_community'\n",
    "                           }\n",
    "                        ) \n",
    "                        YIELD communityCount, ranIterations, didConverge\"\"\"\n",
    "                    )\n",
    "    return list(result)\n",
    "\n",
    "with driver.session(database=\"mytest\") as session:\n",
    "            result = session.execute_write(label_propagation_property) \n",
    "\n",
    "\n",
    "(pd.DataFrame(result, columns=['community_count', 'ranIterations', 'didConverge'])).head()"
   ]
  },
  {
   "cell_type": "markdown",
   "id": "b4606b3c",
   "metadata": {},
   "source": [
    "10.4 Визуальное сравнение сообществ, выделенных двумя алгоритмами."
   ]
  },
  {
   "cell_type": "markdown",
   "id": "9ae397b8",
   "metadata": {},
   "source": [
    "Вернёмся к виджету для визуализации. Настроим цветовую индикацию сообществ и выведем 2 визуализации.\n",
    "Для начала создадим функцию которая присваивает некоторые значения цветов элементам списка."
   ]
  },
  {
   "cell_type": "code",
   "execution_count": 24,
   "id": "9639a487",
   "metadata": {
    "scrolled": true
   },
   "outputs": [],
   "source": [
    "def give_colors_to_list(our_list:list):\n",
    "    \"\"\"Функция принимает список числовых значений int и возвращает словарь \"ключ-цвет\",\n",
    "        где ключ - число из переданного функции списка\"\"\"\n",
    "    color_list = []\n",
    "    for i in our_list:\n",
    "        color = \"#\"+''.join([choice('0123456789abcdef') for j in range(6)])\n",
    "        color_list.append(color)\n",
    "    color_dictionary = dict(zip(our_list, color_list))\n",
    "    return color_dictionary"
   ]
  },
  {
   "cell_type": "markdown",
   "id": "5a978d8f",
   "metadata": {},
   "source": [
    "И создадим 2 словаря для цветовой идентификации наших сообществ полученных при помощи различных алгоритмов:"
   ]
  },
  {
   "cell_type": "code",
   "execution_count": 26,
   "id": "361894ba",
   "metadata": {
    "scrolled": true
   },
   "outputs": [],
   "source": [
    "louv_colors_dict = give_colors_to_list(louv_comm_id_list)\n",
    "label_prop_colors_dict = give_colors_to_list(label_propagation_id_list)"
   ]
  },
  {
   "cell_type": "markdown",
   "id": "2d836063",
   "metadata": {},
   "source": [
    "Далее получим из базы обновлённый граф (т.к. мы добавили узлам-персонам свойства с номерами id сообществ)."
   ]
  },
  {
   "cell_type": "code",
   "execution_count": 27,
   "id": "62689892",
   "metadata": {},
   "outputs": [],
   "source": [
    "with driver.session(database=\"mytest\") as session:\n",
    "            graph = session.run(\"\"\"MATCH p=()-[r:KNOWS]-() RETURN p\"\"\").graph()"
   ]
  },
  {
   "cell_type": "markdown",
   "id": "184599c8",
   "metadata": {},
   "source": [
    "Выведем виджет с визуализацией графа, назначив цветовую идентификацию сообществам выделенным при помощи Лувенского алгоритма."
   ]
  },
  {
   "cell_type": "code",
   "execution_count": 28,
   "id": "5ac88495",
   "metadata": {},
   "outputs": [
    {
     "data": {
      "application/vnd.jupyter.widget-view+json": {
       "model_id": "29c4c188d7d34f9bb29a32188296ef7d",
       "version_major": 2,
       "version_minor": 0
      },
      "text/plain": [
       "GraphWidget(layout=Layout(height='500px', width='100%'))"
      ]
     },
     "metadata": {},
     "output_type": "display_data"
    }
   ],
   "source": [
    "w_louvain = GraphWidget(graph = graph)\n",
    "\n",
    "def custom_color_mapping(index, node):\n",
    "    louv_community_number = node.get('properties', {}).get('louv_community')\n",
    "    if louv_community_number in louv_comm_id_list:\n",
    "        color = louv_colors_dict[louv_community_number]\n",
    "        return color\n",
    "    else:\n",
    "        return \"grey\"\n",
    "\n",
    "w_louvain.set_graph_layout(\"organic\")\n",
    "w_louvain.set_node_label_mapping(lambda index, node: node[\"properties\"][\"name\"] if node[\"properties\"][\"label\"] == \"Person\" else node[\"properties\"][\"label\"])\n",
    "w_louvain.set_node_color_mapping(custom_color_mapping)\n",
    "w_louvain.show()"
   ]
  },
  {
   "cell_type": "markdown",
   "id": "cba481b6",
   "metadata": {},
   "source": [
    "Мы видим те же 6 сообществ, которые мы и определили визуально."
   ]
  },
  {
   "cell_type": "markdown",
   "id": "48a238f1",
   "metadata": {},
   "source": [
    "Сделаем то же самое, выделив цветами сообщества, полученные при помощи алгоритма распространения метки."
   ]
  },
  {
   "cell_type": "code",
   "execution_count": 29,
   "id": "b535636a",
   "metadata": {
    "scrolled": true
   },
   "outputs": [
    {
     "data": {
      "application/vnd.jupyter.widget-view+json": {
       "model_id": "a1c9bb26f2224b2494b815c8dc343bbb",
       "version_major": 2,
       "version_minor": 0
      },
      "text/plain": [
       "GraphWidget(layout=Layout(height='500px', width='100%'))"
      ]
     },
     "metadata": {},
     "output_type": "display_data"
    }
   ],
   "source": [
    "w_lable_prop = GraphWidget(graph = graph)\n",
    "\n",
    "def custom_color_mapping(index, node):\n",
    "    lbl_prop_community_number = node.get('properties', {}).get('lbl_prop_community')\n",
    "    if lbl_prop_community_number in label_propagation_id_list:\n",
    "        color = label_prop_colors_dict[lbl_prop_community_number]\n",
    "        return color\n",
    "    else:\n",
    "        return \"grey\"\n",
    "\n",
    "w_lable_prop.set_graph_layout(\"organic\")\n",
    "w_lable_prop.set_node_label_mapping(lambda index, node: node[\"properties\"][\"name\"] if node[\"properties\"][\"label\"] == \"Person\" else node[\"properties\"][\"label\"])\n",
    "w_lable_prop.set_node_color_mapping(custom_color_mapping)\n",
    "w_lable_prop.show()"
   ]
  },
  {
   "cell_type": "markdown",
   "id": "10da7c07",
   "metadata": {},
   "source": [
    "Согласно цветовой идентификации, мы видим что алгоритм распространения метки определил первое сообщество как 3."
   ]
  },
  {
   "cell_type": "markdown",
   "id": "3ff81973",
   "metadata": {},
   "source": [
    "Визуально мы также видим, что некоторые сообщества представлены в форме \"звезды\" - т.е. они представляют собой просто множество участников, связанных одним общим знакомым. Зададим вопрос - есть ли у нас \"компанейские\" сообщества, т.е. в каких из них присутствуют участники, у которых знакомые могут также знать друг друга? Рассчитаем для этого коэффициэнт кластеризации для каждого из выделенных Лувенским методом сообществ.\n",
    "Для этого создадим in-memory граф, включающий помимо участников и связей между ними также свойство \"louv_community\", которого раньше у нас не было."
   ]
  },
  {
   "cell_type": "code",
   "execution_count": null,
   "id": "a101ccf4",
   "metadata": {},
   "outputs": [],
   "source": [
    "def create_louv_interactions_graph(tx):\n",
    "    result = tx.run(\n",
    "                    \"\"\"CALL gds.graph.project(\n",
    "                            'louv_interactions',\n",
    "                            'Person',\n",
    "                            {KNOWS:\n",
    "                                {\n",
    "                                orientation:'UNDIRECTED'\n",
    "                                }\n",
    "                            },\n",
    "                            {nodeProperties: 'louv_community'} \n",
    "                            )\"\"\"\n",
    "                    )\n",
    "    return list(result)\n",
    "\n",
    "with driver.session(database=\"mytest\") as session:\n",
    "            result = session.execute_write(create_louv_interactions_graph) "
   ]
  },
  {
   "cell_type": "markdown",
   "id": "cb98e361",
   "metadata": {},
   "source": [
    "Далее, разобьём наш граф на подграфы согласно id сообществ (берем только 6 интересующих нас сообществ)"
   ]
  },
  {
   "cell_type": "code",
   "execution_count": 34,
   "id": "ddef63ee",
   "metadata": {},
   "outputs": [],
   "source": [
    "def create_louv_subgraphs(tx, name, given_id):\n",
    "    \"\"\"Т.к. функция gds.beta.graph.project.subgraph не поддерживает передачу динамчиеских параметров, \n",
    "    передаём их в запрос при помощи конкатенации, для этого предварительно экранируем\"\"\"\n",
    "    name = str(name)\n",
    "    escaped_name = name.replace(\"\\\\u0060\", \"`\").replace(\"`\", \"``\")\n",
    "    given_id = str(given_id)\n",
    "    escaped_given_id = given_id.replace(\"\\\\u0060\", \"`\").replace(\"`\", \"``\")\n",
    "    result = tx.run(\n",
    "                     \"\"\"CALL gds.beta.graph.project.subgraph( \n",
    "                        '\"\"\"+escaped_name+\"\"\"',\n",
    "                        'louv_interactions',\n",
    "                        'n.louv_community = \"\"\"+given_id+\"\"\"',\n",
    "                        '*'\n",
    "                        )\n",
    "                        YIELD graphName, fromGraphName, nodeCount, relationshipCount\n",
    "                        \"\"\",name = name, given_id = given_id\n",
    "                    )\n",
    "\n",
    "for item in louv_comm_id_list:\n",
    "    with driver.session(database=\"mytest\") as session:\n",
    "        result = session.execute_write(create_louv_subgraphs, name = item, given_id = item) "
   ]
  },
  {
   "cell_type": "markdown",
   "id": "feeb7e3d",
   "metadata": {},
   "source": [
    "Проверка: посмотрим на список графов"
   ]
  },
  {
   "cell_type": "code",
   "execution_count": null,
   "id": "c83f444c",
   "metadata": {
    "scrolled": true
   },
   "outputs": [],
   "source": [
    "with driver.session(database=\"mytest\") as session:\n",
    "            result = session.execute_read(graphs_list) \n",
    "    \n",
    "pd.DataFrame(result).head(10)"
   ]
  },
  {
   "cell_type": "markdown",
   "id": "dfbd68ad",
   "metadata": {},
   "source": [
    "Вычислим для подграфов коэффициент кластеризации."
   ]
  },
  {
   "cell_type": "code",
   "execution_count": 36,
   "id": "28c6f738",
   "metadata": {},
   "outputs": [
    {
     "data": {
      "text/plain": [
       "{8207: [<Record averageClusteringCoefficient=0.0 nodeCount=51>],\n",
       " 8327: [<Record averageClusteringCoefficient=0.0 nodeCount=15>],\n",
       " 8489: [<Record averageClusteringCoefficient=0.0 nodeCount=13>],\n",
       " 8647: [<Record averageClusteringCoefficient=0.0 nodeCount=13>],\n",
       " 8859: [<Record averageClusteringCoefficient=0.0 nodeCount=7>],\n",
       " 2140: [<Record averageClusteringCoefficient=0.0 nodeCount=6>]}"
      ]
     },
     "execution_count": 36,
     "metadata": {},
     "output_type": "execute_result"
    }
   ],
   "source": [
    "def calculate_avg_сlustering_сoefficient(tx, graph_name):\n",
    "    graph_name = str(graph_name)\n",
    "    escaped_graph_name = graph_name.replace(\"\\\\u0060\", \"`\").replace(\"`\", \"``\")\n",
    "    result = tx.run(\n",
    "                    \"\"\"CALL gds.localClusteringCoefficient.stats('\"\"\"+escaped_graph_name+\"\"\"')\n",
    "                    YIELD averageClusteringCoefficient, nodeCount\"\"\", graph_name = graph_name\n",
    "                    )\n",
    "    return list(result)\n",
    "\n",
    "results = {}\n",
    "for item in louv_comm_id_list:\n",
    "    with driver.session(database=\"mytest\") as session:\n",
    "             result = session.execute_write(calculate_avg_сlustering_сoefficient, item)\n",
    "             results[item] = result  \n",
    "\n",
    "\n",
    "results"
   ]
  },
  {
   "cell_type": "markdown",
   "id": "0e9d7c83",
   "metadata": {},
   "source": [
    "Коэффициэнты кластеризации у всех сообществ равны нулю. Мы можем увидеть это и визуально - ни в одном сообществе нет \"треугольников\". Участники сообществ слабо связаны между собой - у них нет общих знакомых."
   ]
  },
  {
   "cell_type": "markdown",
   "id": "828012d5",
   "metadata": {},
   "source": [
    "11. Напишем REST API для "
   ]
  },
  {
   "cell_type": "markdown",
   "id": "27fcf2de",
   "metadata": {},
   "source": [
    "Данный API будет получать ФИО участника на входе, и на выходе отдавать JSON объект, содержащий ФИО, список событий в которых человек принимал участие и список знакомых.\n",
    "Предполагается что в запросе будем получать url такого вида: /person/?name=Иванов+Иван+Иванович"
   ]
  },
  {
   "cell_type": "code",
   "execution_count": 37,
   "id": "d1aa5bfd",
   "metadata": {
    "scrolled": true
   },
   "outputs": [
    {
     "name": "stdout",
     "output_type": "stream",
     "text": [
      " * Serving Flask app \"__main__\" (lazy loading)\n",
      " * Environment: production\n",
      "\u001b[31m   WARNING: This is a development server. Do not use it in a production deployment.\u001b[0m\n",
      "\u001b[2m   Use a production WSGI server instead.\u001b[0m\n",
      " * Debug mode: off\n"
     ]
    },
    {
     "name": "stderr",
     "output_type": "stream",
     "text": [
      " * Running on http://127.0.0.1:5000/ (Press CTRL+C to quit)\n",
      "127.0.0.1 - - [08/Mar/2023 00:12:35] \"GET /person/?name=Бугайчук+Роман+Эдуардович HTTP/1.1\" 200 -\n",
      "127.0.0.1 - - [08/Mar/2023 00:12:48] \"GET /person/?name=Бугайчук+Роман+Эдуардович HTTP/1.1\" 200 -\n",
      "127.0.0.1 - - [08/Mar/2023 00:12:57] \"GET /person/?name=Иванов+Иван+Иванович HTTP/1.1\" 200 -\n",
      "127.0.0.1 - - [08/Mar/2023 00:13:02] \"GET /person/ HTTP/1.1\" 200 -\n"
     ]
    }
   ],
   "source": [
    "app = Flask(__name__)  # инициируем объект приложения Flask\n",
    "\n",
    "@app.route('/status', methods=['GET'])\n",
    "def a_live():\n",
    "    return \"Alive!\"\n",
    "\n",
    "\n",
    "\n",
    "def search_query(tx, name):\n",
    "    name = str(name)\n",
    "    escaped_name = name.replace(\"\\\\u0060\", \"`\").replace(\"`\", \"``\")\n",
    "    result = tx.run(\n",
    "                    \"\"\"MATCH(p:Person {name:'\"\"\"+escaped_name+\"\"\"'})\n",
    "                        MATCH (f:Person)-[k:KNOWS]-(p) \n",
    "                        MATCH (p)-[r:PARTICIPATED]-(e:Event)\n",
    "                        RETURN p AS person, f AS friends, e as events\"\"\"\n",
    "                    )\n",
    "    return result.data() #data() возвращает по факту список словарей\n",
    "\n",
    "\n",
    "@app.route('/person/', methods=['GET'])\n",
    "def search():\n",
    "    error = None\n",
    "    name = request.args.get('name')\n",
    "    if name and name != '': #обработаем запрос, если он не пустой\n",
    "        with driver.session(database=\"mytest\") as session:\n",
    "            result = session.execute_write(search_query, name)\n",
    "            if result and result != '':\n",
    "                #хоть data() обещает нам вернуть объект формата json, возвращает все равно список\n",
    "                #уберем из него скобки\n",
    "                return make_response(str(result).replace(\"[\", \"\").replace(\"]\", \"\"))\n",
    "            else:\n",
    "                return 'Персона по ФИО не найдена'\n",
    "    else:\n",
    "        error = 'Не введен запрос!'\n",
    "        return 'Не введен запрос!'\n",
    "\n",
    "\n",
    "app.run(port=5000)  #запустим веб приложениие на порту 5000. вписать можно любой СВОБОДНЫЙ порт"
   ]
  }
 ],
 "metadata": {
  "kernelspec": {
   "display_name": "Python 3 (ipykernel)",
   "language": "python",
   "name": "python3"
  },
  "language_info": {
   "codemirror_mode": {
    "name": "ipython",
    "version": 3
   },
   "file_extension": ".py",
   "mimetype": "text/x-python",
   "name": "python",
   "nbconvert_exporter": "python",
   "pygments_lexer": "ipython3",
   "version": "3.9.13"
  }
 },
 "nbformat": 4,
 "nbformat_minor": 5
}
